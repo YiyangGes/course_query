{
 "cells": [
  {
   "cell_type": "markdown",
   "metadata": {},
   "source": [
    "• Create a Gradio app using LangChain with the following features:\n",
    "1. SQL Query Generation: Generate SQL queries from natural language.\n",
    "2. SQL Safety Check: Implement basic safety checks for SQL queries to prevent\n",
    "malicious input.\n",
    "3. Conversational Memory: Add multi-round conversational capabilities with\n",
    "a chat box and history.\n",
    "4. Question-Answering System: Build a complete question-answering system\n",
    "for the course schedule.\n",
    "\n",
    "• The Gradio app must include:\n",
    "* A conversation box that displays the full chat history.\n",
    "* The ability to handle multi-round interactions for context-aware querying."
   ]
  },
  {
   "cell_type": "markdown",
   "metadata": {},
   "source": [
    "#### Change the column names to make it easire to understand"
   ]
  },
  {
   "cell_type": "code",
   "execution_count": 73,
   "metadata": {},
   "outputs": [
    {
     "data": {
      "text/plain": [
       "135"
      ]
     },
     "execution_count": 73,
     "metadata": {},
     "output_type": "execute_result"
    }
   ],
   "source": [
    "import pandas as pd\n",
    "import sqlite3\n",
    "\n",
    "# Load the data from the database\n",
    "query = \"SELECT * FROM courses\"\n",
    "conn = sqlite3.connect(\"courses.db\")\n",
    "\n",
    "df = pd.read_sql(query, conn)\n",
    "\n",
    "# Rename columns to be more intuitive\n",
    "df = df.rename(columns={\n",
    "    \"Mon\": \"Monday_start\",\n",
    "    \"MonTo\": \"Monday_end\",\n",
    "    \"Tue\": \"Tuesday_start\",\n",
    "    \"TueTo\": \"Tuesday_end\",\n",
    "    \"Wed\": \"Wednesday_start\",\n",
    "    \"WedTo\": \"Wednesday_end\",\n",
    "    \"Thu\": \"Thursday_start\",\n",
    "    \"ThuTo\": \"Thursday_end\",\n",
    "    \"Fri\": \"Friday_start\",\n",
    "    \"FriTo\": \"Friday_end\",\n",
    "    \"Sat\": \"Saturday_start\",\n",
    "    \"SatTo\": \"Saturday_end\"\n",
    "})\n",
    "\n",
    "# Save the modified DataFrame back to the database\n",
    "df.to_sql(\"courses\", conn, if_exists=\"replace\", index=False)\n"
   ]
  },
  {
   "cell_type": "markdown",
   "metadata": {},
   "source": [
    "#### Set up models"
   ]
  },
  {
   "cell_type": "code",
   "execution_count": 75,
   "metadata": {},
   "outputs": [],
   "source": [
    "# Configure LLM options\n",
    "from langchain_ollama import ChatOllama\n",
    "import os\n",
    "from langchain_community.llms import DeepInfra\n",
    "from langchain_openai import ChatOpenAI\n",
    "\n",
    "# Local LLM setup\n",
    "local_model = ChatOllama(model=\"qwen2.5:7b\")\n",
    "# local_model = ChatOllama(model = \"phi3.5:3.8b-mini-instruct-q8_0\")\n",
    "\n",
    "# API setup (optional)\n",
    "os.environ[\"DEEPINFRA_API_TOKEN\"] = str(os.environ.get(\"DEEPINFRA_API_KEY\"))\n",
    "os.environ[\"OPENAI_API_KEY\"] = str(os.environ.get(\"OPENAI_API_KEY\"))\n",
    "# deepinfra = DeepInfra(model_id=\"meta-llama/Meta-Llama-3.1-70B-Instruct\")\n",
    "\n",
    "# api_model = None ### \n",
    "# https://api.python.langchain.com/en/latest/llms/langchain_community.llms.deepinfra.DeepInfra.html\n",
    "\n",
    "# Choose which model to use\n",
    "# llm = DeepInfra(model_id=\"meta-llama/Meta-Llama-3.1-70B-Instruct\")  # Switch to api_model if using Replicate\n",
    "llm = local_model  # Switch to api_model if using Replicate\n",
    "llm = ChatOpenAI(model=\"gpt-4o-mini\")"
   ]
  },
  {
   "cell_type": "markdown",
   "metadata": {},
   "source": [
    "#### Prepare some functions that would be used later"
   ]
  },
  {
   "cell_type": "code",
   "execution_count": 77,
   "metadata": {},
   "outputs": [],
   "source": [
    "from langchain_community.utilities import SQLDatabase\n",
    "\n",
    "# Initialize database connection\n",
    "db = SQLDatabase.from_uri(\"sqlite:///courses.db\", sample_rows_in_table_info=0)\n",
    "\n",
    "# Helper functions\n",
    "def get_schema(_):\n",
    "    \"\"\"Retrieve database schema\"\"\"\n",
    "    return db.get_table_info()\n",
    "\n",
    "def run_query(query):\n",
    "    \"\"\"Execute SQL query\"\"\"\n",
    "    return db.run(query)"
   ]
  },
  {
   "cell_type": "code",
   "execution_count": 78,
   "metadata": {},
   "outputs": [],
   "source": [
    "def parse(string):\n",
    "    \"\"\"To parse the responce of llm, get the pure SQL out from ```sql <SQL>```\"\"\"\n",
    "    \n",
    "    if \"```\" in string:\n",
    "        string = string.split(\"```\")\n",
    "        string = string[1].replace(\"sql\",\"\")\n",
    "        \n",
    "    return string"
   ]
  },
  {
   "cell_type": "markdown",
   "metadata": {},
   "source": [
    "#### Prepare info needed for prompt"
   ]
  },
  {
   "cell_type": "code",
   "execution_count": null,
   "metadata": {},
   "outputs": [],
   "source": [
    "# Load the data from the database into a pandas DataFrame\n",
    "df = pd.read_sql(\"SELECT * FROM courses\", conn)\n",
    "# Create a dictionary with column names as keys and unique values as values\n",
    "column_unique_values = {col: df[col].unique().tolist() for col in df.columns}\n",
    "print(column_unique_values)\n",
    "\n",
    "import json\n",
    "\n",
    "# my_dict = {\"name\": \"Alice\", \"age\": 25, \"city\": \"New York\"}\n",
    "column_unique_values_str = json.dumps(column_unique_values)\n",
    "\n",
    "print(column_unique_values_str)\n",
    "# print(type(dict_string))  # Output: <class 'str'>"
   ]
  },
  {
   "cell_type": "markdown",
   "metadata": {},
   "source": [
    "### SQL from natural language"
   ]
  },
  {
   "cell_type": "code",
   "execution_count": 79,
   "metadata": {},
   "outputs": [],
   "source": [
    "from langchain_core.prompts import ChatPromptTemplate\n",
    "from langchain_core.output_parsers import StrOutputParser\n",
    "from langchain_core.runnables import RunnablePassthrough\n",
    "\n",
    "# SQL generation prompt\n",
    "sql_prompt_template = \"\"\"Based on the table schema below, write a SQL query that would answer the user's question:\n",
    "{schema}\n",
    "\n",
    "Question: {question}\n",
    "SQL Query:\"\"\"\n",
    "\n",
    "system_prompt = \"Your are an helpful assistence that helps answer questions about course on Spring Semeter of 2025. \\\n",
    "                All needed information is stored in course.db\"\n",
    "\n",
    "prompt = ChatPromptTemplate.from_messages([\n",
    "    (\"system\", system_prompt),\n",
    "    (\"system\", \"Given an input question, convert it to a SQL query. No pre-amble.\"),\n",
    "    (\"human\", sql_prompt_template),\n",
    "])\n",
    "\n",
    "# Build query generation chain\n",
    "sql_generator = (\n",
    "    RunnablePassthrough.assign(schema=get_schema)\n",
    "    | prompt\n",
    "    | llm.bind(stop=[\"\\nSQLResult:\"])\n",
    "    | StrOutputParser()\n",
    "    | parse\n",
    ")"
   ]
  },
  {
   "cell_type": "code",
   "execution_count": 106,
   "metadata": {},
   "outputs": [
    {
     "name": "stdout",
     "output_type": "stream",
     "text": [
      "\n",
      "SELECT * FROM courses WHERE \"Department\" = 'Biomedical Science';\n",
      "\n"
     ]
    }
   ],
   "source": [
    "# question = \"What courses does Micheal Zhao teaches\"\n",
    "# question = \" What are avaliale Departments?\"\n",
    "question = \"Which courses are available in the Biomedical sciemce department for Spring 2025?\"\n",
    "sql = sql_generator.invoke({\"question\": question})\n",
    "print(str(sql))"
   ]
  },
  {
   "cell_type": "code",
   "execution_count": null,
   "metadata": {},
   "outputs": [],
   "source": []
  },
  {
   "cell_type": "code",
   "execution_count": 92,
   "metadata": {},
   "outputs": [
    {
     "name": "stdout",
     "output_type": "stream",
     "text": [
      "[('Applied Math & Statistics',), ('ART',), ('Biomedical Science (BMS)',), ('Computer Science (CS), Computer Networks and Cybersecurity (CNCS)',), ('Data Science (DS)',), ('General Education (GE)',), ('Dance ',)]\n"
     ]
    },
    {
     "data": {
      "text/plain": [
       "str"
      ]
     },
     "execution_count": 92,
     "metadata": {},
     "output_type": "execute_result"
    }
   ],
   "source": [
    "db.run(sql)\n",
    "result = db.run(sql)\n",
    "print(result)\n",
    "type(result)"
   ]
  },
  {
   "cell_type": "code",
   "execution_count": 87,
   "metadata": {},
   "outputs": [
    {
     "data": {
      "text/plain": [
       "str"
      ]
     },
     "execution_count": 87,
     "metadata": {},
     "output_type": "execute_result"
    }
   ],
   "source": [
    "type(db.run(sql))"
   ]
  }
 ],
 "metadata": {
  "kernelspec": {
   "display_name": "llama_env",
   "language": "python",
   "name": "python3"
  },
  "language_info": {
   "codemirror_mode": {
    "name": "ipython",
    "version": 3
   },
   "file_extension": ".py",
   "mimetype": "text/x-python",
   "name": "python",
   "nbconvert_exporter": "python",
   "pygments_lexer": "ipython3",
   "version": "3.11.10"
  }
 },
 "nbformat": 4,
 "nbformat_minor": 2
}
