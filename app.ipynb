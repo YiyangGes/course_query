{
 "cells": [
  {
   "cell_type": "markdown",
   "metadata": {},
   "source": [
    "• Create a Gradio app using LangChain with the following features:\n",
    "1. SQL Query Generation: Generate SQL queries from natural language.\n",
    "2. SQL Safety Check: Implement basic safety checks for SQL queries to prevent\n",
    "malicious input.\n",
    "3. Conversational Memory: Add multi-round conversational capabilities with\n",
    "a chat box and history.\n",
    "4. Question-Answering System: Build a complete question-answering system\n",
    "for the course schedule.\n",
    "\n",
    "• The Gradio app must include:\n",
    "* A conversation box that displays the full chat history.\n",
    "* The ability to handle multi-round interactions for context-aware querying."
   ]
  },
  {
   "cell_type": "markdown",
   "metadata": {},
   "source": [
    "#### Change the column names to make it easire to understand"
   ]
  },
  {
   "cell_type": "code",
   "execution_count": 1,
   "metadata": {},
   "outputs": [
    {
     "data": {
      "text/plain": [
       "135"
      ]
     },
     "execution_count": 1,
     "metadata": {},
     "output_type": "execute_result"
    }
   ],
   "source": [
    "import pandas as pd\n",
    "import sqlite3\n",
    "\n",
    "# Load the data from the database\n",
    "query = \"SELECT * FROM courses\"\n",
    "conn = sqlite3.connect(\"courses.db\")\n",
    "\n",
    "df = pd.read_sql(query, conn)\n",
    "\n",
    "# Rename columns to be more intuitive\n",
    "df = df.rename(columns={\n",
    "    \"Mon\": \"Monday_start\",\n",
    "    \"MonTo\": \"Monday_end\",\n",
    "    \"Tue\": \"Tuesday_start\",\n",
    "    \"TueTo\": \"Tuesday_end\",\n",
    "    \"Wed\": \"Wednesday_start\",\n",
    "    \"WedTo\": \"Wednesday_end\",\n",
    "    \"Thu\": \"Thursday_start\",\n",
    "    \"ThuTo\": \"Thursday_end\",\n",
    "    \"Fri\": \"Friday_start\",\n",
    "    \"FriTo\": \"Friday_end\",\n",
    "    \"Sat\": \"Saturday_start\",\n",
    "    \"SatTo\": \"Saturday_end\"\n",
    "})\n",
    "\n",
    "# Save the modified DataFrame back to the database\n",
    "df.to_sql(\"courses\", conn, if_exists=\"replace\", index=False)\n"
   ]
  },
  {
   "cell_type": "markdown",
   "metadata": {},
   "source": [
    "#### Set up models"
   ]
  },
  {
   "cell_type": "code",
   "execution_count": 2,
   "metadata": {},
   "outputs": [],
   "source": [
    "# Configure LLM options\n",
    "from langchain_ollama import ChatOllama\n",
    "import os\n",
    "from langchain_community.llms import DeepInfra\n",
    "from langchain_openai import ChatOpenAI\n",
    "\n",
    "# Local LLM setup\n",
    "local_model = ChatOllama(model=\"qwen2.5:7b\")\n",
    "# local_model = ChatOllama(model = \"phi3.5:3.8b-mini-instruct-q8_0\")\n",
    "\n",
    "# API setup (optional)\n",
    "os.environ[\"DEEPINFRA_API_TOKEN\"] = str(os.environ.get(\"DEEPINFRA_API_KEY\"))\n",
    "os.environ[\"OPENAI_API_KEY\"] = str(os.environ.get(\"OPENAI_API_KEY\"))\n",
    "# deepinfra = DeepInfra(model_id=\"meta-llama/Meta-Llama-3.1-70B-Instruct\")\n",
    "\n",
    "# api_model = None ### \n",
    "# https://api.python.langchain.com/en/latest/llms/langchain_community.llms.deepinfra.DeepInfra.html\n",
    "\n",
    "# Choose which model to use\n",
    "# llm = DeepInfra(model_id=\"meta-llama/Meta-Llama-3.1-70B-Instruct\")  # Switch to api_model if using Replicate\n",
    "llm = local_model  # Switch to api_model if using Replicate\n",
    "llm = ChatOpenAI(model=\"gpt-4o-mini\")"
   ]
  },
  {
   "cell_type": "markdown",
   "metadata": {},
   "source": [
    "#### Prepare some functions that would be used later"
   ]
  },
  {
   "cell_type": "code",
   "execution_count": 3,
   "metadata": {},
   "outputs": [],
   "source": [
    "from langchain_community.utilities import SQLDatabase\n",
    "\n",
    "# Initialize database connection\n",
    "db = SQLDatabase.from_uri(\"sqlite:///courses.db\", sample_rows_in_table_info=0)\n",
    "\n",
    "# Helper functions\n",
    "def get_schema(_):\n",
    "    \"\"\"Retrieve database schema\"\"\"\n",
    "    return db.get_table_info()\n",
    "\n",
    "def run_query(query):\n",
    "    \"\"\"Execute SQL query\"\"\"\n",
    "    return db.run(query)"
   ]
  },
  {
   "cell_type": "code",
   "execution_count": 4,
   "metadata": {},
   "outputs": [],
   "source": [
    "def parse(string):\n",
    "    \"\"\"To parse the responce of llm, get the pure SQL out from ```sql <SQL>```\"\"\"\n",
    "    \n",
    "    if \"```\" in string:\n",
    "        string = string.split(\"```\")\n",
    "        string = string[1].replace(\"sql\",\"\")\n",
    "        \n",
    "    return string"
   ]
  },
  {
   "cell_type": "markdown",
   "metadata": {},
   "source": [
    "#### Prepare info needed for prompt"
   ]
  },
  {
   "cell_type": "code",
   "execution_count": 5,
   "metadata": {},
   "outputs": [
    {
     "name": "stdout",
     "output_type": "stream",
     "text": [
      "{\"Instructor\": [\"Michael Zhao\", \"Kevin Ren\", \"Qihu Zhang\", \"Zhanglin Cui\", \"Varies\", \"TBD\", \"J. Rawls\", \"M. Sanchez\", \"F. Yuan\", \"M. Torley\", \"Vivian Liu\", \"Bill Tse\", \"Ethan/Lilian Li\", \"Lilian Li/S. Zhu\", \"Lilian Li\", \"Dan Pelonis\", \"Dan Pelonis &Zhen Su\", \"Eric Bess\", \"Penny\", \"CL& Penny\", \"TBD/Anh Cao\", \"T. Liu\", \"M. Xu\", \"J. Shi\", \"X. Tan\", \"Zeno Yu\", \"Sand Y. Zhu\", \"Zheng Qu\", \"Miao Yu\", \"T. Harrison\", \"T. Liu/Anh Cao\", \"B. McDuffie\", \"S. Grodnick\", \"H. Jiang/TBD\", \"J. Wang\", \"X. Wang\", \"V. Liu\", \"G. Shang\", \"A. Chen\", \"S. Jiang\", \"A. Chen/S. Jiang\", \"S. Jiang (B. Du - TA)\", \"M. Liu\", \"Y. Tsuai\", \"S. Yang\", \"Y. Chen\", \"A. Chen/Y. Tsuai\", \"A.Chen\"], \"Department\": [\"Applied Math & Statistics\", \"ART\", \"Biomedical Science (BMS)\", \"Computer Science (CS), Computer Networks and Cybersecurity (CNCS)\", \"Data Science (DS)\", \"General Education (GE)\", \"Dance \"], \"Program\": [\"(Bachelor of Science)\", \"(Master of Science)\", \"Arts Management (BFA)\", \"Graphic Design Concentration (BFA in Fine Arts and Design)\", \"Oil Painting Concentration (BFA in Fine Arts and Design)\", \"Fine Art (Master of Fine Arts)\", \"Biomedical Science (BMS)\", \"Computer Science (CS), Computer Networks and Cybersecurity (CNCS)\", \"Data Science (Bachelor of Science)\", \"Data Science (Master of Science)\", \"General Education (GE)\", \"LAS005\", \"Dance (Bachelor of Fine Arts)\", \"Dance (Master of Fine Arts)\"]}\n"
     ]
    }
   ],
   "source": [
    "import json\n",
    "\n",
    "# Load the data from the database into a pandas DataFrame\n",
    "df = pd.read_sql(\"SELECT * FROM courses\", conn)\n",
    "\n",
    "# Select 3 keys from the dictionary: 'Instructor', 'Department', 'program'\n",
    "column_unique_values = {col: df[col].unique().tolist() for col in df.columns}\n",
    "selected_keys = ['Instructor', 'Department', 'Program']\n",
    "selected_values = {key: column_unique_values[key] for key in selected_keys}\n",
    "\n",
    "# # Create a dictionary with column names as keys and unique values as values\n",
    "# column_unique_values = {col: df[col].unique().tolist() for col in df.columns}\n",
    "# print(column_unique_values)\n",
    "\n",
    "# # Get all keys of the dictionary\n",
    "# keys = list(column_unique_values.keys())\n",
    "# print(keys)\n",
    "\n",
    "# column_unique_values_str = json.dumps(column_unique_values)\n",
    "column_unique_values_str = json.dumps(selected_values)\n",
    "\n",
    "print(column_unique_values_str)"
   ]
  },
  {
   "cell_type": "markdown",
   "metadata": {},
   "source": [
    "#### SQL from natural language"
   ]
  },
  {
   "cell_type": "code",
   "execution_count": 6,
   "metadata": {},
   "outputs": [],
   "source": [
    "from langchain_core.prompts import ChatPromptTemplate\n",
    "from langchain_core.output_parsers import StrOutputParser\n",
    "from langchain_core.runnables import RunnablePassthrough\n",
    "\n",
    "# SQL generation prompt\n",
    "sql_prompt_template = \"\"\"Based on the table schema below, write a SQL query that would answer the user's question:\n",
    "{schema}\n",
    "\n",
    "Question: {question}\n",
    "SQL Query:\"\"\"\n",
    "\n",
    "system_prompt = \"\"\"Your are an helpful assistence that helps answer questions about course on Spring Semeter of 2025. \\\n",
    "                All needed information is stored in course.db\n",
    "                Here is a dictionary storing something values of the database. \n",
    "                The key of dictionary is Column name, and the value is a list of values of the database under the corresponding Column name\n",
    "                \n",
    "                Dictionary : \\n\n",
    "                \"\"\"+column_unique_values_str[1:-2]\n",
    "\n",
    "prompt = ChatPromptTemplate.from_messages([\n",
    "    (\"system\", system_prompt),\n",
    "    (\"system\", \"Given an input question, convert it to a SQL query. No pre-amble.\"),\n",
    "    (\"human\", sql_prompt_template),\n",
    "])\n",
    "\n",
    "# Build query generation chain\n",
    "sql_generator = (\n",
    "    RunnablePassthrough.assign(schema=get_schema)\n",
    "    | prompt\n",
    "    | llm.bind(stop=[\"\\nSQLResult:\"])\n",
    "    | StrOutputParser()\n",
    "    | parse\n",
    ")"
   ]
  },
  {
   "cell_type": "code",
   "execution_count": 7,
   "metadata": {},
   "outputs": [
    {
     "name": "stdout",
     "output_type": "stream",
     "text": [
      "\n",
      "SELECT COUNT(*) \n",
      "FROM courses \n",
      "WHERE Instructor = 'Michael Zhao';\n",
      "\n"
     ]
    }
   ],
   "source": [
    "question = \"How many courses does Mr. Micheal Zhao teaches\"\n",
    "# question = \" What are avaliale Departments?\"\n",
    "# question = \"Which courses are available in the Biomedical sciemce department for Spring 2025?\"\n",
    "sql = sql_generator.invoke({\"question\": question})\n",
    "print(str(sql))"
   ]
  },
  {
   "cell_type": "markdown",
   "metadata": {},
   "source": [
    "#### Natural Language response"
   ]
  },
  {
   "cell_type": "code",
   "execution_count": 11,
   "metadata": {},
   "outputs": [],
   "source": [
    "# Natural language response generation, interpret sql\n",
    "response_template = \"\"\"Based on the table schema below, question, sql query, and sql response, write a natural language response:\n",
    "{schema}\n",
    "\n",
    "Question: {question}\n",
    "SQL Query: {query}\n",
    "SQL Response: {response}\"\"\"\n",
    "\n",
    "nl_prompt = ChatPromptTemplate.from_messages([\n",
    "    (\"system\", \"Given an input question and SQL response, convert it to a natural language answer. No pre-amble.\"),\n",
    "    (\"human\", response_template),\n",
    "])\n",
    "\n",
    "from langchain_core.runnables import RunnableLambda\n",
    "\n",
    "def print_func(x):\n",
    "    print(x['query'])\n",
    "    return x\n",
    "\n",
    "printfunc = RunnableLambda(print_func) # object\n",
    "# def printfunc(input):\n",
    "#     print(input[\"query\"])\n",
    "#     return input\n",
    "\n",
    "# Complete chain with natural language output\n",
    "complete_chain = (\n",
    "    RunnablePassthrough.assign(query=sql_generator)\n",
    "    | printfunc\n",
    "    | RunnablePassthrough.assign( # dictionary\n",
    "        schema=get_schema,\n",
    "        response=lambda x: db.run(x[\"query\"]), # db.run exsecute database, x is the input\n",
    "    )\n",
    "    | nl_prompt\n",
    "    | llm\n",
    ")"
   ]
  },
  {
   "cell_type": "code",
   "execution_count": null,
   "metadata": {},
   "outputs": [
    {
     "name": "stdout",
     "output_type": "stream",
     "text": [
      "\n",
      "SELECT * FROM courses WHERE Department = 'Biomedical Science (BMS)';\n",
      "\n",
      "content='The following courses are available in the Biomedical Science department for Spring 2025:\\n\\n1. BMS343 - Biomedical Ethics (2.0 credits) - Prerequisite: BMS101 - Instructor: TBD\\n2. BSC102 - General Biology II (3.0 credits) - No prerequisites - Instructor: T. Liu\\n3. BSC102L - General Biology II Lab (1.0 credit) - No prerequisites - Instructor: T. Liu\\n4. CHM102 - General Chemistry II (3.0 credits) - No prerequisites - Instructor: M. Xu\\n5. CHM102L - General Chemistry II Lab (1.0 credit) - No prerequisites - Instructor: M. Xu\\n6. BSC212 - Anatomy and Physiology II (3.0 credits) - Prerequisite: BSC211 - Instructor: T. Liu\\n7. BSC212L - Anatomy and Physiology II Lab (1.0 credit) - Prerequisite: BSC211L - Instructor: T. Liu\\n8. CHM212 - Organic Chemistry II (Directed Study, online) (3.0 credits) - Prerequisite: CHM211 - Instructor: J. Shi\\n9. CHM212L - Organic Chemistry II Lab (Directed Study, online) (1.0 credit) - Prerequisite: CHM211L - Instructor: J. Shi\\n10. BSC322 - Biochemistry (3.0 credits) - Prerequisite: CHM211 - Instructor: X. Tan\\n11. BMS141 - Introduction to US Healthcare (online) (2.0 credits) - Prerequisite: BMS101 or department approval - Instructor: TBD\\n12. BSC432 - Introduction to Pharmacology (Directed Study) (3.0 credits) - Prerequisite: CHM211 or CHM213 - Instructor: M. Xu\\n13. BMS323 - Introduction to Medical Laboratory Science (3.0 credits) - Prerequisite: BSC212 & CHM102 - Instructor: T. Liu\\n14. BMS323L - Introduction to Medical Laboratory Science Lab (1.0 credit) - Prerequisite: BSC212L & CHM102L - Instructor: T. Liu\\n15. BMS361 - Biomedical Sciences Internship (3.0 credits) - Prerequisite: Department Approval - Instructor: Varies\\n16. BMS461 - Biomedical Sciences Practicum I (4.0 credits) - Prerequisite: Department Approval - Instructor: Varies\\n17. BMS462 - Biomedical Sciences Practicum II (4.0 credits) - Prerequisite: Department Approval - Instructor: Varies' additional_kwargs={'refusal': None} response_metadata={'token_usage': {'completion_tokens': 555, 'prompt_tokens': 2006, 'total_tokens': 2561, 'completion_tokens_details': {'accepted_prediction_tokens': 0, 'audio_tokens': 0, 'reasoning_tokens': 0, 'rejected_prediction_tokens': 0}, 'prompt_tokens_details': {'audio_tokens': 0, 'cached_tokens': 0}}, 'model_name': 'gpt-4o-mini-2024-07-18', 'system_fingerprint': 'fp_6fc10e10eb', 'finish_reason': 'stop', 'logprobs': None} id='run-87327cbc-9899-47e0-a1fa-112e02178ed6-0' usage_metadata={'input_tokens': 2006, 'output_tokens': 555, 'total_tokens': 2561, 'input_token_details': {'audio': 0, 'cache_read': 0}, 'output_token_details': {'audio': 0, 'reasoning': 0}}\n"
     ]
    }
   ],
   "source": [
    "# question = \"How many courses does Mr. Micheal Zhao teaches\"\n",
    "# question = \" What are avaliale Departments?\"\n",
    "question = \"Which courses are available in the Biomedical sciemce department for Spring 2025?\"\n",
    "nl_response = complete_chain.invoke({\"question\": question})\n",
    "print(nl_response)"
   ]
  },
  {
   "cell_type": "code",
   "execution_count": null,
   "metadata": {},
   "outputs": [
    {
     "ename": "TypeError",
     "evalue": "SafeQueryExecutor.__init__() takes 3 positional arguments but 4 were given",
     "output_type": "error",
     "traceback": [
      "\u001b[1;31m---------------------------------------------------------------------------\u001b[0m",
      "\u001b[1;31mTypeError\u001b[0m                                 Traceback (most recent call last)",
      "Cell \u001b[1;32mIn[20], line 3\u001b[0m\n\u001b[0;32m      1\u001b[0m \u001b[38;5;28;01mfrom\u001b[39;00m \u001b[38;5;21;01mvalidate_safty\u001b[39;00m \u001b[38;5;28;01mimport\u001b[39;00m SafeQueryExecutor\n\u001b[0;32m      2\u001b[0m \u001b[38;5;66;03m# Initialize the safe executor\u001b[39;00m\n\u001b[1;32m----> 3\u001b[0m safe_executor \u001b[38;5;241m=\u001b[39m \u001b[43mSafeQueryExecutor\u001b[49m\u001b[43m(\u001b[49m\u001b[43mdb\u001b[49m\u001b[43m,\u001b[49m\u001b[43m \u001b[49m\u001b[43msql_generator\u001b[49m\u001b[43m,\u001b[49m\u001b[43m \u001b[49m\u001b[43mcomplete_chain\u001b[49m\u001b[43m)\u001b[49m\n\u001b[0;32m      5\u001b[0m \u001b[38;5;28;01mdef\u001b[39;00m \u001b[38;5;21mcount_arguments\u001b[39m(\u001b[38;5;241m*\u001b[39margs):\n\u001b[0;32m      6\u001b[0m     \u001b[38;5;28;01mreturn\u001b[39;00m \u001b[38;5;28mlen\u001b[39m(args)\n",
      "\u001b[1;31mTypeError\u001b[0m: SafeQueryExecutor.__init__() takes 3 positional arguments but 4 were given"
     ]
    }
   ],
   "source": [
    "from validate_safty import SafeQueryExecutor\n",
    "# Initialize the safe executor\n",
    "safe_executor = SafeQueryExecutor(db, sql_generator, complete_chain)\n",
    "\n",
    "# def count_arguments(*args):\n",
    "#     return len(args)\n",
    "# count = count_arguments(db, sql_generator, complete_chain)\n",
    "# print(count)\n",
    "# Example queries\n",
    "# def test_queries():\n",
    "#     # Valid query\n",
    "#     # result1 = safe_executor.execute_safe_query(\"What is salary of Klay Thompson?\")\n",
    "#     result1 = safe_executor.execute_safe_query(\"Which courses are available in the Biomedical sciemce department for Spring 2025?\")\n",
    "#     print(\"\\nValid Query Result:\")\n",
    "#     print(result1)\n",
    "    \n",
    "#     # Invalid query with SQL injection attempt\n",
    "#     result2 = safe_executor.execute_safe_query(\"SELECT * FROM courses; DROP TABLE courses;\")\n",
    "#     print(\"\\nInvalid Query Result:\")\n",
    "#     print(result2)\n",
    "    \n",
    "#     # Query with restricted words\n",
    "#     result3 = safe_executor.execute_safe_query(\"delete all players from Warriors\")\n",
    "#     print(\"\\nRestricted Query Result:\")\n",
    "#     print(result3)\n",
    "\n",
    "# # Run test queries\n",
    "# test_queries()"
   ]
  }
 ],
 "metadata": {
  "kernelspec": {
   "display_name": "llama_env",
   "language": "python",
   "name": "python3"
  },
  "language_info": {
   "codemirror_mode": {
    "name": "ipython",
    "version": 3
   },
   "file_extension": ".py",
   "mimetype": "text/x-python",
   "name": "python",
   "nbconvert_exporter": "python",
   "pygments_lexer": "ipython3",
   "version": "3.11.10"
  }
 },
 "nbformat": 4,
 "nbformat_minor": 2
}
